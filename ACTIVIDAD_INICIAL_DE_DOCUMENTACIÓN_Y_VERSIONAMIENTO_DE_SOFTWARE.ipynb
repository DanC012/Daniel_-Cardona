{
  "nbformat": 4,
  "nbformat_minor": 0,
  "metadata": {
    "colab": {
      "provenance": [],
      "authorship_tag": "ABX9TyO1fT3vesQnvYeoO+iQjNZV",
      "include_colab_link": true
    },
    "kernelspec": {
      "name": "python3",
      "display_name": "Python 3"
    },
    "language_info": {
      "name": "python"
    }
  },
  "cells": [
    {
      "cell_type": "markdown",
      "metadata": {
        "id": "view-in-github",
        "colab_type": "text"
      },
      "source": [
        "<a href=\"https://colab.research.google.com/github/DanC012/Daniel_-Cardona/blob/main/ACTIVIDAD_INICIAL_DE_DOCUMENTACI%C3%93N_Y_VERSIONAMIENTO_DE_SOFTWARE.ipynb\" target=\"_parent\"><img src=\"https://colab.research.google.com/assets/colab-badge.svg\" alt=\"Open In Colab\"/></a>"
      ]
    },
    {
      "cell_type": "code",
      "execution_count": null,
      "metadata": {
        "id": "PSYNRl9RkAw5",
        "outputId": "9f0ab71a-2369-4482-bb55-7dcce3c0947e",
        "colab": {
          "base_uri": "https://localhost:8080/"
        }
      },
      "outputs": [
        {
          "output_type": "stream",
          "name": "stdout",
          "text": [
            "Ingrese un valor natural (índice/posición): 23\n",
            "El valor en la posición 23 de la serie es: -21\n"
          ]
        }
      ],
      "source": [
        "def calcular_valor_en_posicion(n):\n",
        "    if n % 2 == 0:\n",
        "        # Si n es par, el valor en la posición n es 7 * (n // 2)\n",
        "        return 7 * (n // 2)\n",
        "    else:\n",
        "        # Si n es impar, el valor en la posición n es -2 * ((n - 1) // 2) + 1\n",
        "        return -2 * ((n - 1) // 2) + 1\n",
        "\n",
        "# Pedir al usuario que ingrese un valor natural\n",
        "n = int(input(\"Ingrese un valor natural (índice/posición): \"))\n",
        "\n",
        "# Calcular el valor en la posición n usando la función definida\n",
        "valor_en_posicion = calcular_valor_en_posicion(n)\n",
        "\n",
        "# Imprimir el valor en la posición n\n",
        "print(f\"El valor en la posición {n} de la serie es: {valor_en_posicion}\")"
      ]
    }
  ]
}